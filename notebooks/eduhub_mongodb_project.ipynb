{
 "cells": [
  {
   "cell_type": "code",
   "execution_count": 4,
   "id": "37def344",
   "metadata": {},
   "outputs": [
    {
     "name": "stdout",
     "output_type": "stream",
     "text": [
      "Collection 'users' created with validation.\n"
     ]
    }
   ],
   "source": [
    "from pymongo import MongoClient\n",
    "from datetime import datetime\n",
    "\n",
    "# Establishing connection\n",
    "client = MongoClient('mongodb://localhost:27017/')\n",
    "db = client['eduhub_db']\n",
    "\n",
    "#schema validation. refers to 6-1\n",
    "user_validator = {\n",
    "    \"$jsonSchema\": {\n",
    "        \"bsonType\": \"object\",\n",
    "        \"required\": [\"userId\", \"email\", \"firstName\", \"lastName\", \"role\", \"dateJoined\", \"isActive\"],\n",
    "        \"properties\": {\n",
    "            \"email\": {\"bsonType\": \"string\", \"pattern\": \"^.+@.+\\\\..+$\"},\n",
    "            \"role\": {\"enum\": [\"student\", \"instructor\"]},\n",
    "            \"dateJoined\": {\"bsonType\": \"date\"},\n",
    "            \"isActive\": {\"bsonType\": \"bool\"}\n",
    "        }\n",
    "    }\n",
    "}\n",
    "\n",
    "# --- CREATE COLLECTION ---\n",
    "# Try/except block runs if the collection already exists\n",
    "try:\n",
    "    db.create_collection('users', validator=user_validator)\n",
    "    print(\"Collection 'users' created with validation.\")\n",
    "except Exception as e:\n",
    "    # If the collection exists, MongoDB often raises an error on re-creation.\n",
    "    print(f\"Collection 'users' already exists or validation error: {e}\")\n",
    "\n",
    "# Create other collections \n",
    "for col_name in ['courses', 'enrollments', 'lessons', 'assignments', 'submissions']:\n",
    "    if col_name not in db.list_collection_names():\n",
    "        db.create_collection(col_name)"
   ]
  }
 ],
 "metadata": {
  "kernelspec": {
   "display_name": "Python 3",
   "language": "python",
   "name": "python3"
  },
  "language_info": {
   "codemirror_mode": {
    "name": "ipython",
    "version": 3
   },
   "file_extension": ".py",
   "mimetype": "text/x-python",
   "name": "python",
   "nbconvert_exporter": "python",
   "pygments_lexer": "ipython3",
   "version": "3.11.5"
  }
 },
 "nbformat": 4,
 "nbformat_minor": 5
}
